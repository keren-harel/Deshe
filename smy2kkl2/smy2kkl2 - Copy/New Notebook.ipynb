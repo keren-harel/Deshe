{
 "cells": [
  {
   "cell_type": "code",
   "execution_count": 4,
   "metadata": {},
   "outputs": [
    {
     "name": "stdout",
     "output_type": "stream",
     "text": [
      "samples\n",
      "stands\n",
      "samples_StartRepeatDominTree\n",
      "samples_InvasiveSpecies\n",
      "samples_VitalForest\n",
      "samples__ATTACH\n",
      "samples_PlantTypeCoverDistribut\n",
      "stands_PlantTypeCoverDistribut\n",
      "stands_InvasiveSpecies\n",
      "stands_StartRepeatDominTree\n",
      "stands_VitalForest\n",
      "Finished\n"
     ]
    }
   ],
   "source": [
    "# Delete all features and rows in gdb data\n",
    "\n",
    "import os\n",
    "import arcpy\n",
    "import pandas as pd\n",
    "import numpy as np\n",
    "\n",
    "aprx = 'CURRENT'\n",
    "p = arcpy.mp.ArcGISProject(aprx)\n",
    "proj_dir = p.homeFolder\n",
    "proj_gdb = p.defaultGeodatabase\n",
    "\n",
    "gdb = r'C:\\MDGISS\\devs\\smy2kkl2\\SMY.gdb'\n",
    "\n",
    "arcpy.env.workspace = gdb\n",
    "for fc in arcpy.ListFeatureClasses():    \n",
    "    arcpy.management.DeleteFeatures(fc)\n",
    "    print(fc)\n",
    "for tab in arcpy.ListTables():\n",
    "    arcpy.management.DeleteRows(tab)\n",
    "    print(tab)\n",
    "\n",
    "print('Finished')\n"
   ]
  },
  {
   "cell_type": "code",
   "execution_count": null,
   "metadata": {},
   "outputs": [],
   "source": []
  }
 ],
 "metadata": {
  "kernelspec": {
   "display_name": "ArcGISPro",
   "language": "Python",
   "name": "python3"
  },
  "language_info": {
   "file_extension": ".py",
   "name": "python",
   "version": "3"
  }
 },
 "nbformat": 4,
 "nbformat_minor": 2
}
