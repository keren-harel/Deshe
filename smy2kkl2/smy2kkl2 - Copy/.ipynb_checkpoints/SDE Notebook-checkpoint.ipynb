{
 "cells": [
  {
   "cell_type": "code",
   "execution_count": null,
   "metadata": {},
   "outputs": [],
   "source": [
    "# Create a new ralationship classes for SMY data in SDE\n"
   ]
  },
  {
   "cell_type": "code",
   "execution_count": null,
   "metadata": {},
   "outputs": [],
   "source": [
    "# Check relationship in SDE\n",
    "import os\n",
    "import pandas as pd\n",
    "import arcpy\n",
    "\n",
    "gdb_sde_dic ={'samples':[('samples_InvasiveSpecies','1'), ('samples_PlantTypeCoverDistribut', '2'),\n",
    "                        ('samples_StartRepeatDominTree', '3'), ('samples_VitalForest', '4')],\n",
    "            'stands':['stands_InvasiveSpecies', 'stands_PlantTypeCoverDistribut',\n",
    "                 'stands_StartRepeatDominTree', 'stands_VitalForest']}\n",
    "\n",
    "tab_list = ['samples_InvasiveSpecies', 'samples_PlantTypeCoverDistribut',\n",
    "        'samples_StartRepeatDominTree', 'samples_VitalForest']\n",
    "tab_dic = {'samples':['samples_InvasiveSpecies',\n",
    "                      'samples_PlantTypeCoverDistribut',\n",
    "                      'samples_StartRepeatDominTree',\n",
    "                      'samples_VitalForest'],\n",
    "            'stands':['stands_InvasiveSpecies',\n",
    "                       'stands_PlantTypeCoverDistribut',\n",
    "                       'stands_StartRepeatDominTree',\n",
    "                       'stands_VitalForest']}\n",
    "\n",
    "fields = [ 'FOR_NO', 'HELKA', 'STAND_NO', 'GlobalID']\n",
    "\n",
    "layer = 'stands'\n",
    "# Origin key field in smy samples\n",
    "primary_key = 'GlobalID'\n",
    "\n",
    "if layer == 'samples':\n",
    "    foreign_key = 'ParentGlobalID'\n",
    "else:\n",
    "    foreign_key = 'stand_ID'\n",
    "\n",
    "gdb_dir = r'C:\\MDGISS\\devs\\smy2kkl\\Output'\n",
    "\n",
    "arcpy.env.workspace = gdb_dir\n",
    "gdb_list = arcpy.ListWorkspaces('smy*', 'FileGDB')\n",
    "\n",
    "\n",
    "for gdb in gdb_list:\n",
    "    arcpy.env.workspace = gdb\n",
    "    gdb_name = os.path.basename(gdb)\n",
    "\n",
    "    arr = arcpy.da.TableToNumPyArray(layer, fields, null_value=-1)\n",
    "    df = pd.DataFrame(data=arr)\n",
    "\n",
    "    gids = list(df['GlobalID'].values)    \n",
    "    print (f'{gdb_name}>{layer}: {len(gids)}')\n",
    "    for tab in tab_dic[layer]:\n",
    "        if arcpy.Exists(tab):\n",
    "            print(tab)\n",
    "            arr = arcpy.da.TableToNumPyArray(tab, [foreign_key], null_value=-1)\n",
    "            df = pd.DataFrame(data=arr)\n",
    "            pgids = list(df[foreign_key].drop_duplicates().values)\n",
    "            diff = set(pgids) - set(gids)\n",
    "            if len(diff) > 0:\n",
    "                print(f'{gdb_name}>{tab}: {set(pgids) - set(gids)}')\n",
    "    "
   ]
  }
 ],
 "metadata": {
  "kernelspec": {
   "display_name": "ArcGISPro",
   "language": "Python",
   "name": "python3"
  },
  "language_info": {
   "file_extension": ".py",
   "name": "python",
   "version": "3"
  }
 },
 "nbformat": 4,
 "nbformat_minor": 2
}
